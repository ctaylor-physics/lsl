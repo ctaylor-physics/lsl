{
 "cells": [
  {
   "cell_type": "markdown",
   "metadata": {},
   "source": [
    "# Basics"
   ]
  },
  {
   "cell_type": "markdown",
   "metadata": {},
   "source": [
    "To obtain an ordered numpy array of stands connected to the DP system at a particular station:"
   ]
  },
  {
   "cell_type": "code",
   "execution_count": 12,
   "metadata": {
    "collapsed": false,
    "jupyter": {
     "outputs_hidden": false
    }
   },
   "outputs": [
    {
     "name": "stdout",
     "output_type": "stream",
     "text": [
      "[<lsl.common.stations.Stand object at 0x115b36f98>, <lsl.common.stations.Stand object at 0x115b36f98>, <lsl.common.stations.Stand object at 0x115b36ac8>]\n",
      "520\n",
      "Stand 173:  x=-25.00 m, y=+23.16 m, z=+0.91 m\n",
      "Stand 173:  x=-25.00 m, y=+23.16 m, z=+0.91 m\n",
      "Stand 151:  x=-24.75 m, y=+47.92 m, z=+0.14 m\n",
      "Stand 151:  x=-24.75 m, y=+47.92 m, z=+0.14 m\n",
      "Stand 222:  x=-38.84 m, y=+14.45 m, z=+1.27 m\n"
     ]
    }
   ],
   "source": [
    "from lsl.common import stations\n",
    "\n",
    "lwa1 = stations.lwa1\n",
    "stands = lwa1.stands\n",
    "\n",
    "print(stands[:3])\n",
    "print(len(stands))\n",
    "\n",
    "for i in range(5):\n",
    "    print(str(stands[i]))"
   ]
  },
  {
   "cell_type": "markdown",
   "metadata": {},
   "source": [
    "Although the stand list is useful, it is more useful to have a list of lsl.common.stations.Antenna instances. This provide much more information about the station setup (stand, FEE, position, etc.) than the simple stands list. To get this list:"
   ]
  },
  {
   "cell_type": "code",
   "execution_count": 13,
   "metadata": {
    "collapsed": false,
    "jupyter": {
     "outputs_hidden": false
    }
   },
   "outputs": [
    {
     "name": "stdout",
     "output_type": "stream",
     "text": [
      "[<lsl.common.stations.Antenna object at 0x115bb8358>, <lsl.common.stations.Antenna object at 0x115bb8438>, <lsl.common.stations.Antenna object at 0x115baac18>]\n",
      "520\n",
      "Antenna 345: stand=173, polarization=0; digitizer 1; status is 3\n",
      "Antenna 346: stand=173, polarization=1; digitizer 2; status is 3\n",
      "Antenna 301: stand=151, polarization=0; digitizer 3; status is 3\n",
      "Antenna 302: stand=151, polarization=1; digitizer 4; status is 3\n",
      "Antenna 443: stand=222, polarization=0; digitizer 5; status is 3\n"
     ]
    }
   ],
   "source": [
    "antennas = lwa1.antennas\n",
    "\n",
    "print(antennas[:3])\n",
    "print(len(antennas))\n",
    "\n",
    "for i in range(5):\n",
    "    print(str(antennas[i]))"
   ]
  },
  {
   "cell_type": "markdown",
   "metadata": {},
   "source": [
    "## Stand Positions"
   ]
  },
  {
   "cell_type": "markdown",
   "metadata": {},
   "source": [
    "Once you have an array of lsl.common.stations.Antenna instances you can do lots of things.  For example, to get the location of stand #31 you can:"
   ]
  },
  {
   "cell_type": "code",
   "execution_count": 14,
   "metadata": {
    "collapsed": false,
    "jupyter": {
     "outputs_hidden": false
    }
   },
   "outputs": [
    {
     "name": "stdout",
     "output_type": "stream",
     "text": [
      "Stand 31:  x=-4.00 m, y=-21.76 m, z=+2.18 m\n",
      "-3.997 -21.764 2.183\n"
     ]
    }
   ],
   "source": [
    "for ant in antennas:\n",
    "    if ant.stand.id == 31 and ant.pol == 0:\n",
    "        print(str(ant.stand))\n",
    "        print(ant.stand.x, ant.stand.y, ant.stand.z)"
   ]
  },
  {
   "cell_type": "markdown",
   "metadata": {},
   "source": [
    "Or to get the distance between stand #31 and stand #45:"
   ]
  },
  {
   "cell_type": "code",
   "execution_count": 15,
   "metadata": {
    "collapsed": false,
    "jupyter": {
     "outputs_hidden": false
    }
   },
   "outputs": [
    {
     "name": "stdout",
     "output_type": "stream",
     "text": [
      "Stand 45:  x=-7.60 m, y=+21.16 m, z=+0.83 m\n",
      "Stand 31:  x=-4.00 m, y=-21.76 m, z=+2.18 m\n",
      "43.09846897512718\n"
     ]
    }
   ],
   "source": [
    "import math\n",
    "\n",
    "ant31 = None\n",
    "ant45 = None\n",
    "for ant in antennas:\n",
    "    if ant.stand.id == 31 and ant.pol == 0:\n",
    "        ant31 = ant\n",
    "        print(str(ant.stand))\n",
    "    elif ant.stand.id == 45 and ant.pol == 0:\n",
    "        ant45 = ant\n",
    "        print(str(ant.stand))\n",
    "        \n",
    "dx,dy,dz = ant31.stand-ant45.stand\n",
    "print(math.sqrt( dx**2 + dy**2 + dz**2 ))"
   ]
  },
  {
   "cell_type": "markdown",
   "metadata": {},
   "source": [
    "In both of these examples, there is an extra \"ant.pol == 0\" in the \"if\" statement that selects the stands.  This is needed because each stand has two dipole antennas, one for each polarization.  If this extra requirement wasn't inlcuded, you'd have two matches:"
   ]
  },
  {
   "cell_type": "code",
   "execution_count": 16,
   "metadata": {
    "collapsed": false,
    "jupyter": {
     "outputs_hidden": false
    }
   },
   "outputs": [
    {
     "name": "stdout",
     "output_type": "stream",
     "text": [
      "Stand 31:  x=-4.00 m, y=-21.76 m, z=+2.18 m 0\n",
      "-3.997 -21.764 2.183\n",
      "Stand 31:  x=-4.00 m, y=-21.76 m, z=+2.18 m 1\n",
      "-3.997 -21.764 2.183\n"
     ]
    }
   ],
   "source": [
    "for ant in antennas:\n",
    "    if ant.stand.id == 31:\n",
    "        print(str(ant.stand), ant.pol)\n",
    "        print(ant.stand.x, ant.stand.y, ant.stand.z)"
   ]
  },
  {
   "cell_type": "markdown",
   "metadata": {},
   "source": [
    "## Cable Information"
   ]
  },
  {
   "cell_type": "markdown",
   "metadata": {},
   "source": [
    "lsl.common.statations.Antennas instance know more than just the stand location and name.  They also store information about the cable that connects the antenna to the shelter and has methods to compute the cable delay and loss:"
   ]
  },
  {
   "cell_type": "code",
   "execution_count": 17,
   "metadata": {
    "collapsed": false,
    "jupyter": {
     "outputs_hidden": false
    }
   },
   "outputs": [
    {
     "name": "stdout",
     "output_type": "stream",
     "text": [
      "Cable delay for 'EXK-173-115 (Gray)' @ 49 MHz: 467.5 ns\n",
      "Cable gain @ 49 MHz: 0.1110\n"
     ]
    },
    {
     "data": {
      "image/png": "[encoded data removed]",
      "text/plain": [
       "<Figure size 432x288 with 2 Axes>"
      ]
     },
     "metadata": {
      "needs_background": "light"
     },
     "output_type": "display_data"
    }
   ],
   "source": [
    "%matplotlib inline\n",
    "import numpy as np\n",
    "from matplotlib import pyplot as plt\n",
    "\n",
    "ant = antennas[0]\n",
    "\n",
    "print(\"Cable delay for '%s' @ 49 MHz: %.1f ns\" % (ant.cable.id, ant.cable.delay(49e6)*1e9,))\n",
    "print(\"Cable gain @ 49 MHz: %.4f\" % ant.cable.gain(49e6))\n",
    "\n",
    "freqs = np.linspace(10e6, 88e6, 101)\n",
    "delays = ant.cable.delay(freqs)\n",
    "gains = ant.cable.gain(freqs)\n",
    "\n",
    "fig = plt.figure()\n",
    "axD = fig.add_subplot(1, 2, 1)\n",
    "axD.plot(freqs/1e6, delays*1e9)\n",
    "axD.set_xlabel(\"Frequency [MHz]\")\n",
    "axD.set_ylabel(\"Delay [ns]\")\n",
    "\n",
    "axG = fig.add_subplot(1, 2, 2)\n",
    "axG.plot(freqs/1e6, gains)\n",
    "axG.set_xlabel(\"Frequency [MHz]\")\n",
    "axG.set_ylabel(\"Gain\")\n",
    "plt.show()"
   ]
  },
  {
   "cell_type": "code",
   "execution_count": null,
   "metadata": {},
   "outputs": [],
   "source": []
  }
 ],
 "metadata": {
  "kernelspec": {
   "display_name": "Python 3",
   "language": "python",
   "name": "python3"
  },
  "language_info": {
   "codemirror_mode": {
    "name": "ipython",
    "version": 3
   },
   "file_extension": ".py",
   "mimetype": "text/x-python",
   "name": "python",
   "nbconvert_exporter": "python",
   "pygments_lexer": "ipython3",
   "version": "3.6.9"
  }
 },
 "nbformat": 4,
 "nbformat_minor": 4
}
